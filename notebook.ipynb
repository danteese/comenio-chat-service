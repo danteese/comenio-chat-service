{
 "cells": [
  {
   "cell_type": "code",
   "execution_count": 1,
   "id": "949200cf7ef1c476",
   "metadata": {
    "ExecuteTime": {
     "end_time": "2024-05-27T05:38:56.219021Z",
     "start_time": "2024-05-27T05:38:56.212069Z"
    }
   },
   "outputs": [],
   "source": [
    "import os \n",
    "os.environ[\"OPENAI_API_KEY\"] = \"sk-proj-3jgUNHz3FORpCfCZPqIRT3BlbkFJmNDg8hP8PPdStdo7kLGh\"\n",
    "index = None"
   ]
  },
  {
   "cell_type": "code",
   "execution_count": 2,
   "id": "6033ccb4d9b0eb1f",
   "metadata": {
    "ExecuteTime": {
     "end_time": "2024-05-27T05:40:53.032246Z",
     "start_time": "2024-05-27T05:40:39.925047Z"
    }
   },
   "outputs": [
    {
     "name": "stdout",
     "output_type": "stream",
     "text": [
      "<module 'llama_index.core' from '/Users/dantebazaldua/miniconda/envs/chain/lib/python3.9/site-packages/llama_index/core/__init__.py'>\n"
     ]
    }
   ],
   "source": [
    "import llama_index.core\n",
    "print(llama_index.core)"
   ]
  },
  {
   "cell_type": "code",
   "execution_count": 3,
   "id": "initial_id",
   "metadata": {
    "ExecuteTime": {
     "end_time": "2024-05-27T05:37:51.435759Z",
     "start_time": "2024-05-27T05:37:51.431515Z"
    },
    "collapsed": true
   },
   "outputs": [],
   "source": [
    "from llama_index.llms.openai import OpenAI\n",
    "llm = OpenAI(temperature=0.0, model=\"gpt-3.5-turbo\")"
   ]
  },
  {
   "cell_type": "code",
   "execution_count": 4,
   "id": "15e9ab517b057bb0",
   "metadata": {
    "ExecuteTime": {
     "end_time": "2024-05-27T05:37:51.440528Z",
     "start_time": "2024-05-27T05:37:51.436879Z"
    }
   },
   "outputs": [],
   "source": [
    "from llama_index.core.chat_engine import SimpleChatEngine\n",
    "\n",
    "comenio_personality = \"\"\"\n",
    "You are Comenio, an assistant with expertise in supporting teachers to enhance the educational experience and improve overall efficiency. Your main objectives are to provide instructional support, facilitate communication, and assist with administrative tasks. Your role is to act as a supportive, reliable, and efficient assistant, helping teachers streamline their tasks and improve the learning environment for their students.\n",
    "\n",
    "To fulfill your role, you must follow these guidelines:\n",
    "\n",
    "\t1.\tGive concise responses to very simple questions, but provide thorough responses to more complex and open-ended questions.\n",
    "\t2.\tFormat your responses using markdown.\n",
    "\t3.\tAnswer the user in the language the user writes to you.\n",
    "\t4.\tTreat all users with respect and avoid making any discriminatory or offensive statements.\n",
    "\t5.\tSwiftly identify the user’s intent and tailor your responses accordingly.\n",
    "\t6.\tIf you find that the information at hand is inadequate to fulfill your role and objectives, please ask the user for further information.\n",
    "\"\"\"\n"
   ]
  },
  {
   "cell_type": "markdown",
   "id": "2d7cc24f",
   "metadata": {},
   "source": []
  },
  {
   "cell_type": "code",
   "execution_count": 5,
   "id": "fe9d31fd76a3836d",
   "metadata": {
    "ExecuteTime": {
     "end_time": "2024-05-27T05:37:51.574884Z",
     "start_time": "2024-05-27T05:37:51.442305Z"
    }
   },
   "outputs": [],
   "source": [
    "chat_engine = SimpleChatEngine.from_defaults(llm=llm, system_prompt=comenio_personality)"
   ]
  },
  {
   "cell_type": "code",
   "execution_count": 8,
   "id": "f3bb98a9dbbf0714",
   "metadata": {},
   "outputs": [
    {
     "name": "stdout",
     "output_type": "stream",
     "text": [
      "===== Entering Chat REPL =====\n",
      "Type \"exit\" to exit.\n",
      "\n"
     ]
    }
   ],
   "source": [
    "chat_engine.chat_repl()"
   ]
  },
  {
   "cell_type": "code",
   "execution_count": null,
   "id": "832f2856cfba31f0",
   "metadata": {},
   "outputs": [],
   "source": []
  }
 ],
 "metadata": {
  "kernelspec": {
   "display_name": "Python 3",
   "language": "python",
   "name": "python3"
  },
  "language_info": {
   "codemirror_mode": {
    "name": "ipython",
    "version": 2
   },
   "file_extension": ".py",
   "mimetype": "text/x-python",
   "name": "python",
   "nbconvert_exporter": "python",
   "pygments_lexer": "ipython2",
   "version": "2.7.6"
  }
 },
 "nbformat": 4,
 "nbformat_minor": 5
}
